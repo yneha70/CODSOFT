{
  "nbformat": 4,
  "nbformat_minor": 0,
  "metadata": {
    "colab": {
      "provenance": [],
      "authorship_tag": "ABX9TyO0NuaVHQe8DEbh6fnMy2dL",
      "include_colab_link": true
    },
    "kernelspec": {
      "name": "python3",
      "display_name": "Python 3"
    },
    "language_info": {
      "name": "python"
    }
  },
  "cells": [
    {
      "cell_type": "markdown",
      "metadata": {
        "id": "view-in-github",
        "colab_type": "text"
      },
      "source": [
        "<a href=\"https://colab.research.google.com/github/yneha70/CODSOFT/blob/main/CODSOFT3.ipynb\" target=\"_parent\"><img src=\"https://colab.research.google.com/assets/colab-badge.svg\" alt=\"Open In Colab\"/></a>"
      ]
    },
    {
      "cell_type": "code",
      "execution_count": 2,
      "metadata": {
        "colab": {
          "base_uri": "https://localhost:8080/"
        },
        "id": "7w5pCySpcqDQ",
        "outputId": "64ff8a33-b074-4ba3-892d-41eaeb61eee2"
      },
      "outputs": [
        {
          "output_type": "stream",
          "name": "stdout",
          "text": [
            "🔐 Welcome to the Password Generator\n",
            "Enter the desired password length (minimum 4): 7\n",
            "\n",
            "🔑 Your Generated Password: KQ9@#cw\n"
          ]
        }
      ],
      "source": [
        "import random\n",
        "import string\n",
        "\n",
        "def generate_password():\n",
        "    print(\"🔐 Welcome to the Password Generator\")\n",
        "\n",
        "    try:\n",
        "\n",
        "        length = int(input(\"Enter the desired password length (minimum 4): \"))\n",
        "\n",
        "        if length < 4:\n",
        "            print(\"❗ Password length must be at least 4 to ensure complexity.\")\n",
        "            return\n",
        "\n",
        "        lowercase = string.ascii_lowercase\n",
        "        uppercase = string.ascii_uppercase\n",
        "        digits = string.digits\n",
        "        symbols = string.punctuation\n",
        "\n",
        "        password = [\n",
        "            random.choice(lowercase),\n",
        "            random.choice(uppercase),\n",
        "            random.choice(digits),\n",
        "            random.choice(symbols)\n",
        "        ]\n",
        "\n",
        "        all_chars = lowercase + uppercase + digits + symbols\n",
        "        password += random.choices(all_chars, k=length - 4)\n",
        "\n",
        "        random.shuffle(password)\n",
        "\n",
        "        final_password = ''.join(password)\n",
        "        print(f\"\\n🔑 Your Generated Password: {final_password}\")\n",
        "\n",
        "    except ValueError:\n",
        "        print(\"❌ Invalid input. Please enter a numeric value for password length.\")\n",
        "\n",
        "generate_password()\n"
      ]
    }
  ]
}