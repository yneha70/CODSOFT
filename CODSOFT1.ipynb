{
  "nbformat": 4,
  "nbformat_minor": 0,
  "metadata": {
    "colab": {
      "provenance": [],
      "authorship_tag": "ABX9TyNrZxupVOg37Xwp+JAnnWB2",
      "include_colab_link": true
    },
    "kernelspec": {
      "name": "python3",
      "display_name": "Python 3"
    },
    "language_info": {
      "name": "python"
    }
  },
  "cells": [
    {
      "cell_type": "markdown",
      "metadata": {
        "id": "view-in-github",
        "colab_type": "text"
      },
      "source": [
        "<a href=\"https://colab.research.google.com/github/yneha70/CODSOFT/blob/main/CODSOFT1.ipynb\" target=\"_parent\"><img src=\"https://colab.research.google.com/assets/colab-badge.svg\" alt=\"Open In Colab\"/></a>"
      ]
    },
    {
      "cell_type": "code",
      "execution_count": null,
      "metadata": {
        "colab": {
          "base_uri": "https://localhost:8080/"
        },
        "id": "9pjvPyYISkxN",
        "outputId": "b0b0d174-f209-497b-b4ce-e12460ef811d"
      },
      "outputs": [
        {
          "output_type": "stream",
          "name": "stdout",
          "text": [
            "\n",
            "--- TO-DO LIST MENU ---\n",
            "1. View Tasks\n",
            "2. Add Task\n",
            "3. Update Task\n",
            "4. Mark Task as Done\n",
            "5. Delete Task\n",
            "6. Exit\n"
          ]
        }
      ],
      "source": [
        "todo_list = []\n",
        "\n",
        "def display_tasks():\n",
        "    print(\"\\n--- Your To-Do List ---\")\n",
        "    if not todo_list:\n",
        "        print(\"No tasks yet.\")\n",
        "    else:\n",
        "        for i, task in enumerate(todo_list, 1):\n",
        "            status = \"✅ Done\" if task['done'] else \"❌ Not Done\"\n",
        "            print(f\"{i}. {task['task']} [{status}]\")\n",
        "\n",
        "def add_task():\n",
        "    task_name = input(\"Enter the task description: \").strip()\n",
        "    if task_name:\n",
        "        todo_list.append({'task': task_name, 'done': False})\n",
        "        print(\"Task added!\")\n",
        "    else:\n",
        "        print(\"Task cannot be empty.\")\n",
        "\n",
        "def update_task():\n",
        "    display_tasks()\n",
        "    try:\n",
        "        task_num = int(input(\"Enter the task number to update: \")) - 1\n",
        "        if 0 <= task_num < len(todo_list):\n",
        "            new_desc = input(\"Enter new description: \").strip()\n",
        "            if new_desc:\n",
        "                todo_list[task_num]['task'] = new_desc\n",
        "                print(\"Task updated.\")\n",
        "            else:\n",
        "                print(\"Description cannot be empty.\")\n",
        "        else:\n",
        "            print(\"Invalid task number.\")\n",
        "    except ValueError:\n",
        "        print(\"Please enter a valid number.\")\n",
        "\n",
        "def mark_done():\n",
        "    display_tasks()\n",
        "    try:\n",
        "        task_num = int(input(\"Enter the task number to mark as done: \")) - 1\n",
        "        if 0 <= task_num < len(todo_list):\n",
        "            todo_list[task_num]['done'] = True\n",
        "            print(\"Task marked as done.\")\n",
        "        else:\n",
        "            print(\"Invalid task number.\")\n",
        "    except ValueError:\n",
        "        print(\"Please enter a valid number.\")\n",
        "\n",
        "def delete_task():\n",
        "    display_tasks()\n",
        "    try:\n",
        "        task_num = int(input(\"Enter the task number to delete: \")) - 1\n",
        "        if 0 <= task_num < len(todo_list):\n",
        "            removed = todo_list.pop(task_num)\n",
        "            print(f\"Deleted task: {removed['task']}\")\n",
        "        else:\n",
        "            print(\"Invalid task number.\")\n",
        "    except ValueError:\n",
        "        print(\"Please enter a valid number.\")\n",
        "\n",
        "def menu():\n",
        "    while True:\n",
        "        print(\"\\n--- TO-DO LIST MENU ---\")\n",
        "        print(\"1. View Tasks\")\n",
        "        print(\"2. Add Task\")\n",
        "        print(\"3. Update Task\")\n",
        "        print(\"4. Mark Task as Done\")\n",
        "        print(\"5. Delete Task\")\n",
        "        print(\"6. Exit\")\n",
        "\n",
        "        choice = input(\"Choose an option (1-6): \")\n",
        "        if choice == '1':\n",
        "            display_tasks()\n",
        "        elif choice == '2':\n",
        "            add_task()\n",
        "        elif choice == '3':\n",
        "            update_task()\n",
        "        elif choice == '4':\n",
        "            mark_done()\n",
        "        elif choice == '5':\n",
        "            delete_task()\n",
        "        elif choice == '6':\n",
        "            print(\"Exiting... Goodbye!\")\n",
        "            break\n",
        "        else:\n",
        "            print(\"Invalid option. Please choose from 1 to 6.\")\n",
        "menu()"
      ]
    }
  ]
}