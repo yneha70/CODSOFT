{
  "nbformat": 4,
  "nbformat_minor": 0,
  "metadata": {
    "colab": {
      "provenance": [],
      "authorship_tag": "ABX9TyNbDRJWbks/T1H+GSV8swcq",
      "include_colab_link": true
    },
    "kernelspec": {
      "name": "python3",
      "display_name": "Python 3"
    },
    "language_info": {
      "name": "python"
    }
  },
  "cells": [
    {
      "cell_type": "markdown",
      "metadata": {
        "id": "view-in-github",
        "colab_type": "text"
      },
      "source": [
        "<a href=\"https://colab.research.google.com/github/yneha70/CODSOFT/blob/main/CODSOFT2.ipynb\" target=\"_parent\"><img src=\"https://colab.research.google.com/assets/colab-badge.svg\" alt=\"Open In Colab\"/></a>"
      ]
    },
    {
      "cell_type": "code",
      "execution_count": 1,
      "metadata": {
        "colab": {
          "base_uri": "https://localhost:8080/"
        },
        "id": "dhiC2hJ6azr9",
        "outputId": "b1335eb5-9c62-42ee-a311-6badf46a59fa"
      },
      "outputs": [
        {
          "output_type": "stream",
          "name": "stdout",
          "text": [
            "Welcome to the Simple Calculator!\n",
            "Enter the first number: 2\n",
            "Choose operation (+, -, *, /): *\n",
            "Enter the second number: 5\n",
            "Result: 2.0 * 5.0 = 10.0\n"
          ]
        }
      ],
      "source": [
        "def calculator():\n",
        "    print(\"Welcome to the Simple Calculator!\")\n",
        "\n",
        "    try:\n",
        "        num1 = float(input(\"Enter the first number: \"))\n",
        "        op = input(\"Choose operation (+, -, *, /): \").strip()\n",
        "        num2 = float(input(\"Enter the second number: \"))\n",
        "\n",
        "        if op == '+':\n",
        "            result = num1 + num2\n",
        "        elif op == '-':\n",
        "            result = num1 - num2\n",
        "        elif op == '*':\n",
        "            result = num1 * num2\n",
        "        elif op == '/':\n",
        "            if num2 != 0:\n",
        "                result = num1 / num2\n",
        "            else:\n",
        "                print(\"Error: Division by zero is not allowed.\")\n",
        "                return\n",
        "        else:\n",
        "            print(\"Invalid operation. Please choose +, -, *, or /.\")\n",
        "            return\n",
        "\n",
        "        print(f\"Result: {num1} {op} {num2} = {result}\")\n",
        "\n",
        "    except ValueError:\n",
        "        print(\"Invalid input. Please enter numeric values.\")\n",
        "calculator()"
      ]
    }
  ]
}